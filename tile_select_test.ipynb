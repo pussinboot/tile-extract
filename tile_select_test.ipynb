{
 "cells": [
  {
   "cell_type": "code",
   "execution_count": 24,
   "metadata": {
    "collapsed": false
   },
   "outputs": [
    {
     "name": "stdout",
     "output_type": "stream",
     "text": [
      "(192.53781512605045, 409.81512605042019, 96.806722689075627, 265.68067226890759)\n",
      "(36.571428571428598, 489.41176470588238, 48.403361344537814, 319.46218487394958)\n",
      "(151.66386554621852, 256.0, 67.764705882352985, 190.38655462184875)\n",
      "(244.16806722689077, 366.78991596638656, 107.56302521008405, 198.99159663865549)\n",
      "(72.067226890756331, 394.75630252100842, 47.327731092436977, 378.62184873949582)\n"
     ]
    },
    {
     "data": {
      "text/plain": [
       "[]"
      ]
     },
     "execution_count": 24,
     "metadata": {},
     "output_type": "execute_result"
    }
   ],
   "source": [
    "from skimage import data\n",
    "from skimage.viewer import ImageViewer\n",
    "from skimage.viewer.canvastools import RectangleTool\n",
    "from skimage.draw import line\n",
    "from skimage.draw import set_color\n",
    "import numpy as np\n",
    "\n",
    "image = data.camera()\n",
    "viewer = ImageViewer(image)\n",
    "# doing this for top-bar compatability : )\n",
    "def replace_show(self=viewer,x=50,y=50):\n",
    "    self.move(x, y)\n",
    "    for p in self.plugins:\n",
    "        p.show()\n",
    "    super(ImageViewer, self).show()\n",
    "    self.activateWindow()\n",
    "    self.raise_()\n",
    "viewer._show = replace_show\n",
    "def print_the_rect(extents):\n",
    "    # x0, x1, y0, y1 = extents\n",
    "    print(extents)\n",
    "\n",
    "rect_tool = RectangleTool(viewer, on_enter=print_the_rect,on_release=) \n",
    "viewer.show()\n",
    "\n"
   ]
  },
  {
   "cell_type": "code",
   "execution_count": 35,
   "metadata": {
    "collapsed": false
   },
   "outputs": [],
   "source": [
    "from skimage.viewer.widgets import Slider\n",
    "from skimage.viewer.plugins import PlotPlugin\n",
    "plugin = PlotPlugin() \n",
    "def _on_new_image(self=plugin, image=None):\n",
    "    self.ax.set_title('Color Histogram')\n",
    "    self.ax.set_xlabel('b')\n",
    "    self.ax.set_ylabel('a')\n",
    "image = data.coins()\n",
    "viewer = ImageViewer(image) \n",
    "viewer += plugin                  \n",
    "thresholded = viewer.show()"
   ]
  }
 ],
 "metadata": {
  "kernelspec": {
   "display_name": "Python 3",
   "language": "python",
   "name": "python3"
  },
  "language_info": {
   "codemirror_mode": {
    "name": "ipython",
    "version": 3
   },
   "file_extension": ".py",
   "mimetype": "text/x-python",
   "name": "python",
   "nbconvert_exporter": "python",
   "pygments_lexer": "ipython3",
   "version": "3.4.3"
  }
 },
 "nbformat": 4,
 "nbformat_minor": 0
}
